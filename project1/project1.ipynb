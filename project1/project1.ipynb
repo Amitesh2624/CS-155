{
  "nbformat": 4,
  "nbformat_minor": 0,
  "metadata": {
    "colab": {
      "provenance": []
    },
    "kernelspec": {
      "name": "python3",
      "display_name": "Python 3"
    },
    "language_info": {
      "name": "python"
    }
  },
  "cells": [
    {
      "cell_type": "markdown",
      "source": [
        "# Importing Data and Libraries (and some feature cleaning)"
      ],
      "metadata": {
        "id": "7Ps0mbH2hzsH"
      }
    },
    {
      "cell_type": "code",
      "execution_count": null,
      "metadata": {
        "colab": {
          "base_uri": "https://localhost:8080/"
        },
        "id": "nKE4Uu3WudyP",
        "outputId": "ed61b3a6-aff4-448f-951d-cba1b458f58b"
      },
      "outputs": [
        {
          "output_type": "stream",
          "name": "stderr",
          "text": [
            "<ipython-input-1-404a7834189a>:29: FutureWarning: Downcasting behavior in `replace` is deprecated and will be removed in a future version. To retain the old behavior, explicitly call `result.infer_objects(copy=False)`. To opt-in to the future behavior, set `pd.set_option('future.no_silent_downcasting', True)`\n",
            "  df_1 = df_1.replace(to_replace=['Low', 'High'], value=[0, 1])\n"
          ]
        }
      ],
      "source": [
        "from sklearn.discriminant_analysis import QuadraticDiscriminantAnalysis\n",
        "from sklearn.ensemble import AdaBoostClassifier, RandomForestClassifier, GradientBoostingRegressor\n",
        "from sklearn.linear_model import LogisticRegression\n",
        "from sklearn.gaussian_process import GaussianProcessClassifier\n",
        "from sklearn.gaussian_process.kernels import RBF\n",
        "from sklearn.inspection import DecisionBoundaryDisplay\n",
        "from sklearn.model_selection import train_test_split\n",
        "from sklearn.naive_bayes import GaussianNB\n",
        "from sklearn.neighbors import KNeighborsClassifier\n",
        "from sklearn.neural_network import MLPClassifier\n",
        "from sklearn.pipeline import make_pipeline\n",
        "from sklearn.preprocessing import StandardScaler, PolynomialFeatures, RobustScaler\n",
        "from sklearn.svm import SVC\n",
        "from sklearn.tree import DecisionTreeClassifier\n",
        "from sklearn.model_selection import GridSearchCV\n",
        "import pandas as pd, numpy as np\n",
        "import matplotlib.pyplot as plt, seaborn as sns\n",
        "mapping = {'Low': 0, 'High': 1}\n",
        "%matplotlib inline\n",
        "\n",
        "import pandas as pd\n",
        "import matplotlib.pyplot as plt\n",
        "import seaborn as sns\n",
        "df_2 = pd.read_csv('/content/drive/MyDrive/Mini Project 1/data/test.csv')\n",
        "df_1 = pd.read_csv('/content/drive/MyDrive/Mini Project 1/data/train.csv')\n",
        "from scipy import stats\n",
        "from sklearn.preprocessing import MinMaxScaler\n",
        "\n",
        "df_1 = df_1.replace(to_replace=['Low', 'High'], value=[0, 1])\n",
        "df_1 = df_1.drop(['track_href', 'uri', 'type', 'analysis_url', 'id'], axis = 1)\n",
        "df_2 = df_2.drop(['track_href', 'uri', 'type', 'analysis_url', 'ID'], axis = 1)\n",
        "\n",
        "df_1['track_album_release_date'] = pd.to_datetime(df_1['track_album_release_date'], format= 'mixed')\n",
        "df_2['track_album_release_date'] = pd.to_datetime(df_2['track_album_release_date'], format= 'mixed')\n",
        "\n",
        "\n",
        "cols = df_1.columns[df_1.columns != 'Popularity_Type']\n",
        "for col in cols:\n",
        "  #mean_val = df_1[col].mean()\n",
        "  df_1[col] = df_1[col].fillna(0) #imputation\n",
        "\n",
        "k = df_1['track_album_release_date'].min()\n",
        "df_1['track_album_release_date'] = (df_1['track_album_release_date'] - k).dt.days\n",
        "df_2['track_album_release_date'] = (df_2['track_album_release_date'] - k).dt.days\n",
        "df_1 = df_1[(np.abs(stats.zscore(df_1)) < 8).all(axis=1)]\n",
        "df_x = pd.DataFrame(df_1, columns=['time_signature', 'speechiness','danceability','duration_ms','energy', 'mode', 'track_album_release_date', 'instrumentalness','valence','key','tempo','loudness','acousticness','liveness'])\n",
        "\n",
        "#majority_class = df_1[df_1['Popularity_Type'] == 0]\n",
        "#minority_class = df_1[df_1['Popularity_Type'] == 1]\n",
        "#undersampled_majority = majority_class.sample(n=len(minority_class), random_state=101)\n",
        "#df_1 = pd.concat([minority_class, undersampled_majority], axis=0)\n",
        "\n",
        "X = pd.DataFrame(df_1, columns=['time_signature', 'speechiness','danceability','duration_ms','energy', 'mode', 'track_album_release_date', 'instrumentalness','valence','key','tempo','loudness','acousticness','liveness'])\n",
        "y = df_1['Popularity_Type']\n",
        "\n",
        "\n"
      ]
    },
    {
      "cell_type": "code",
      "source": [
        "df_x[['time_signature', 'speechiness','danceability','duration_ms','energy', 'mode', 'track_album_release_date', 'instrumentalness','valence','key','tempo','loudness','acousticness','liveness']].mean()"
      ],
      "metadata": {
        "colab": {
          "base_uri": "https://localhost:8080/",
          "height": 523
        },
        "id": "M9G5Q7h4ia_X",
        "outputId": "a58a7189-c823-4cb1-ba88-f40a105085db"
      },
      "execution_count": null,
      "outputs": [
        {
          "output_type": "execute_result",
          "data": {
            "text/plain": [
              "time_signature                   3.941604\n",
              "speechiness                      0.100639\n",
              "danceability                     0.623930\n",
              "duration_ms                 204875.385674\n",
              "energy                           0.586212\n",
              "mode                             0.566052\n",
              "track_album_release_date     23100.384895\n",
              "instrumentalness                 0.200613\n",
              "valence                          0.482280\n",
              "key                              5.197508\n",
              "tempo                          118.308223\n",
              "loudness                        -9.271011\n",
              "acousticness                     0.339721\n",
              "liveness                         0.166135\n",
              "dtype: float64"
            ],
            "text/html": [
              "<div>\n",
              "<style scoped>\n",
              "    .dataframe tbody tr th:only-of-type {\n",
              "        vertical-align: middle;\n",
              "    }\n",
              "\n",
              "    .dataframe tbody tr th {\n",
              "        vertical-align: top;\n",
              "    }\n",
              "\n",
              "    .dataframe thead th {\n",
              "        text-align: right;\n",
              "    }\n",
              "</style>\n",
              "<table border=\"1\" class=\"dataframe\">\n",
              "  <thead>\n",
              "    <tr style=\"text-align: right;\">\n",
              "      <th></th>\n",
              "      <th>0</th>\n",
              "    </tr>\n",
              "  </thead>\n",
              "  <tbody>\n",
              "    <tr>\n",
              "      <th>time_signature</th>\n",
              "      <td>3.941604</td>\n",
              "    </tr>\n",
              "    <tr>\n",
              "      <th>speechiness</th>\n",
              "      <td>0.100639</td>\n",
              "    </tr>\n",
              "    <tr>\n",
              "      <th>danceability</th>\n",
              "      <td>0.623930</td>\n",
              "    </tr>\n",
              "    <tr>\n",
              "      <th>duration_ms</th>\n",
              "      <td>204875.385674</td>\n",
              "    </tr>\n",
              "    <tr>\n",
              "      <th>energy</th>\n",
              "      <td>0.586212</td>\n",
              "    </tr>\n",
              "    <tr>\n",
              "      <th>mode</th>\n",
              "      <td>0.566052</td>\n",
              "    </tr>\n",
              "    <tr>\n",
              "      <th>track_album_release_date</th>\n",
              "      <td>23100.384895</td>\n",
              "    </tr>\n",
              "    <tr>\n",
              "      <th>instrumentalness</th>\n",
              "      <td>0.200613</td>\n",
              "    </tr>\n",
              "    <tr>\n",
              "      <th>valence</th>\n",
              "      <td>0.482280</td>\n",
              "    </tr>\n",
              "    <tr>\n",
              "      <th>key</th>\n",
              "      <td>5.197508</td>\n",
              "    </tr>\n",
              "    <tr>\n",
              "      <th>tempo</th>\n",
              "      <td>118.308223</td>\n",
              "    </tr>\n",
              "    <tr>\n",
              "      <th>loudness</th>\n",
              "      <td>-9.271011</td>\n",
              "    </tr>\n",
              "    <tr>\n",
              "      <th>acousticness</th>\n",
              "      <td>0.339721</td>\n",
              "    </tr>\n",
              "    <tr>\n",
              "      <th>liveness</th>\n",
              "      <td>0.166135</td>\n",
              "    </tr>\n",
              "  </tbody>\n",
              "</table>\n",
              "</div><br><label><b>dtype:</b> float64</label>"
            ]
          },
          "metadata": {},
          "execution_count": 2
        }
      ]
    },
    {
      "cell_type": "code",
      "source": [
        "df_2[['time_signature', 'speechiness','danceability','duration_ms','energy', 'mode', 'track_album_release_date', 'instrumentalness','valence','key','tempo','loudness','acousticness','liveness']].mean()"
      ],
      "metadata": {
        "colab": {
          "base_uri": "https://localhost:8080/",
          "height": 523
        },
        "id": "Q-OX6nzUitVB",
        "outputId": "0563e9a3-1ee1-4121-cc20-4aaf1f853406"
      },
      "execution_count": null,
      "outputs": [
        {
          "output_type": "execute_result",
          "data": {
            "text/plain": [
              "time_signature                   3.919338\n",
              "speechiness                      0.105505\n",
              "danceability                     0.618033\n",
              "duration_ms                 203851.055843\n",
              "energy                           0.589688\n",
              "mode                             0.546019\n",
              "track_album_release_date     23145.797311\n",
              "instrumentalness                 0.202419\n",
              "valence                          0.482240\n",
              "key                              5.365047\n",
              "tempo                          118.115701\n",
              "loudness                        -9.298829\n",
              "acousticness                     0.345873\n",
              "liveness                         0.172857\n",
              "dtype: float64"
            ],
            "text/html": [
              "<div>\n",
              "<style scoped>\n",
              "    .dataframe tbody tr th:only-of-type {\n",
              "        vertical-align: middle;\n",
              "    }\n",
              "\n",
              "    .dataframe tbody tr th {\n",
              "        vertical-align: top;\n",
              "    }\n",
              "\n",
              "    .dataframe thead th {\n",
              "        text-align: right;\n",
              "    }\n",
              "</style>\n",
              "<table border=\"1\" class=\"dataframe\">\n",
              "  <thead>\n",
              "    <tr style=\"text-align: right;\">\n",
              "      <th></th>\n",
              "      <th>0</th>\n",
              "    </tr>\n",
              "  </thead>\n",
              "  <tbody>\n",
              "    <tr>\n",
              "      <th>time_signature</th>\n",
              "      <td>3.919338</td>\n",
              "    </tr>\n",
              "    <tr>\n",
              "      <th>speechiness</th>\n",
              "      <td>0.105505</td>\n",
              "    </tr>\n",
              "    <tr>\n",
              "      <th>danceability</th>\n",
              "      <td>0.618033</td>\n",
              "    </tr>\n",
              "    <tr>\n",
              "      <th>duration_ms</th>\n",
              "      <td>203851.055843</td>\n",
              "    </tr>\n",
              "    <tr>\n",
              "      <th>energy</th>\n",
              "      <td>0.589688</td>\n",
              "    </tr>\n",
              "    <tr>\n",
              "      <th>mode</th>\n",
              "      <td>0.546019</td>\n",
              "    </tr>\n",
              "    <tr>\n",
              "      <th>track_album_release_date</th>\n",
              "      <td>23145.797311</td>\n",
              "    </tr>\n",
              "    <tr>\n",
              "      <th>instrumentalness</th>\n",
              "      <td>0.202419</td>\n",
              "    </tr>\n",
              "    <tr>\n",
              "      <th>valence</th>\n",
              "      <td>0.482240</td>\n",
              "    </tr>\n",
              "    <tr>\n",
              "      <th>key</th>\n",
              "      <td>5.365047</td>\n",
              "    </tr>\n",
              "    <tr>\n",
              "      <th>tempo</th>\n",
              "      <td>118.115701</td>\n",
              "    </tr>\n",
              "    <tr>\n",
              "      <th>loudness</th>\n",
              "      <td>-9.298829</td>\n",
              "    </tr>\n",
              "    <tr>\n",
              "      <th>acousticness</th>\n",
              "      <td>0.345873</td>\n",
              "    </tr>\n",
              "    <tr>\n",
              "      <th>liveness</th>\n",
              "      <td>0.172857</td>\n",
              "    </tr>\n",
              "  </tbody>\n",
              "</table>\n",
              "</div><br><label><b>dtype:</b> float64</label>"
            ]
          },
          "metadata": {},
          "execution_count": 3
        }
      ]
    },
    {
      "cell_type": "code",
      "source": [
        "numeric_features = ['speechiness','danceability','duration_ms','energy', 'track_album_release_date'\n",
        "                      ,'instrumentalness','valence',\n",
        "                      'tempo','loudness','acousticness','liveness', 'key']\n",
        "X_numeric = pd.DataFrame(df_x, columns = numeric_features)\n",
        "df_2x = pd.DataFrame(df_2, columns=numeric_features)"
      ],
      "metadata": {
        "id": "uHNO7MhhYfi3"
      },
      "execution_count": null,
      "outputs": []
    },
    {
      "cell_type": "markdown",
      "source": [
        "One Hot Encoding Categorical Features"
      ],
      "metadata": {
        "id": "F9EP0Ld1h_HM"
      }
    },
    {
      "cell_type": "code",
      "source": [
        "encoded_X = pd.get_dummies(X, columns=['time_signature', 'mode'])\n",
        "encoded_df2 = pd.get_dummies(df_2, columns=['time_signature', 'mode'])"
      ],
      "metadata": {
        "id": "R_ms3kLui1wC"
      },
      "execution_count": null,
      "outputs": []
    },
    {
      "cell_type": "code",
      "source": [
        "#poly = PolynomialFeatures(degree = 1,\n",
        "                         #interaction_only = False,\n",
        "                         #include_bias = False)\n",
        "#X_new = poly.fit_transform(X_numeric)\n",
        "#collist = poly.get_feature_names_out(numeric_features)\n",
        "#X_poly = pd.DataFrame(X_new, columns = collist)\n",
        "\n",
        "#df_2xx = pd.DataFrame(poly.fit_transform(df_2x), columns = collist)\n"
      ],
      "metadata": {
        "id": "q4d2coK7vhHG"
      },
      "execution_count": null,
      "outputs": []
    },
    {
      "cell_type": "markdown",
      "source": [
        "Checking skew in the features"
      ],
      "metadata": {
        "id": "niEJRsqyiD0w"
      }
    },
    {
      "cell_type": "code",
      "source": [
        "\n",
        "for col in numeric_features:\n",
        "  df_1[col].hist(color='purple', grid=False)\n",
        "  plt.xlabel(col)\n",
        "  plt.ylabel('Frequency')\n",
        "  plt.title('Distribution of ' + col)\n",
        "  plt.show()\n",
        "\n"
      ],
      "metadata": {
        "colab": {
          "base_uri": "https://localhost:8080/",
          "height": 472
        },
        "id": "ZK0SGRBjZWWe",
        "outputId": "f04fabac-9441-4c19-dd05-4a65af2d2874"
      },
      "execution_count": null,
      "outputs": [
        {
          "output_type": "display_data",
          "data": {
            "text/plain": [
              "<Figure size 640x480 with 1 Axes>"
            ],
            "image/png": "[encoded data removed]"
          },
          "metadata": {}
        }
      ]
    },
    {
      "cell_type": "code",
      "source": [
        "cols = numeric_features\n",
        "scaler = RobustScaler()\n",
        "encoded_X[cols] = scaler.fit_transform(encoded_X[cols])\n",
        "encoded_df2[cols] = scaler.fit_transform(encoded_df2[cols])\n",
        "'''\n",
        "for col in cols:\n",
        "  df_1[col].hist(color='blue', grid=False)\n",
        "  plt.xlabel(col)\n",
        "  plt.ylabel('Frequency')\n",
        "  plt.title('Distribution of ' + col)\n",
        "  plt.show()\n",
        "'''"
      ],
      "metadata": {
        "colab": {
          "base_uri": "https://localhost:8080/",
          "height": 53
        },
        "id": "-KmMpw_Cn6_n",
        "outputId": "de6cfc98-6abc-4a2a-a89d-72c56b1246e1"
      },
      "execution_count": null,
      "outputs": [
        {
          "output_type": "execute_result",
          "data": {
            "text/plain": [
              "\"\\nfor col in cols:\\n  df_1[col].hist(color='blue', grid=False)\\n  plt.xlabel(col)\\n  plt.ylabel('Frequency')\\n  plt.title('Distribution of ' + col)\\n  plt.show()\\n\""
            ],
            "application/vnd.google.colaboratory.intrinsic+json": {
              "type": "string"
            }
          },
          "metadata": {},
          "execution_count": 7
        }
      ]
    },
    {
      "cell_type": "code",
      "source": [
        "corr_df = X\n",
        "corr_df['Song_Popularity'] = y"
      ],
      "metadata": {
        "id": "GnNX5zopVhhD"
      },
      "execution_count": null,
      "outputs": []
    },
    {
      "cell_type": "markdown",
      "source": [
        "Checking out correlation and redundancy in the data"
      ],
      "metadata": {
        "id": "9W-HbG__iLnb"
      }
    },
    {
      "cell_type": "code",
      "source": [
        " #New dataframe to calculate correlation between numeric features\n",
        "cor= corr_df.corr(method='pearson')\n",
        "fig, ax =plt.subplots(figsize=(14, 8))\n",
        "plt.title(\"Correlation Plot\")\n",
        "sns.heatmap(cor, mask=np.zeros_like(cor), cmap=sns.diverging_palette(220, 10, as_cmap=True),\n",
        "            square=True, ax=ax)\n",
        "plt.show()"
      ],
      "metadata": {
        "colab": {
          "base_uri": "https://localhost:8080/",
          "height": 815
        },
        "id": "Sy5KdJAHdXZt",
        "outputId": "82b6f839-bf82-4ff8-bb00-6ab8246ae4c0"
      },
      "execution_count": null,
      "outputs": [
        {
          "output_type": "display_data",
          "data": {
            "text/plain": [
              "<Figure size 1400x800 with 2 Axes>"
            ],
            "image/png": "[encoded data removed]"
          },
          "metadata": {}
        }
      ]
    },
    {
      "cell_type": "code",
      "source": [
        "cor.sort_values(by='Song_Popularity', key=abs).columns"
      ],
      "metadata": {
        "colab": {
          "base_uri": "https://localhost:8080/"
        },
        "id": "3QMBs0VyUpss",
        "outputId": "942740b2-f5bf-4fe1-a8ff-2e7e7ad86a46"
      },
      "execution_count": null,
      "outputs": [
        {
          "output_type": "execute_result",
          "data": {
            "text/plain": [
              "Index(['time_signature', 'speechiness', 'danceability', 'duration_ms',\n",
              "       'energy', 'mode', 'track_album_release_date', 'instrumentalness',\n",
              "       'valence', 'key', 'tempo', 'loudness', 'acousticness', 'liveness',\n",
              "       'Song_Popularity'],\n",
              "      dtype='object')"
            ]
          },
          "metadata": {},
          "execution_count": 16
        }
      ]
    },
    {
      "cell_type": "code",
      "source": [
        "#cor['Song_Popularity'].sort_values()[:20]\n",
        "collist= encoded_X.columns.tolist()\n",
        "print(collist)"
      ],
      "metadata": {
        "colab": {
          "base_uri": "https://localhost:8080/"
        },
        "id": "dT5zhVjeZBec",
        "outputId": "d89bb7a2-03d8-4f26-a630-183ff021d5dd"
      },
      "execution_count": null,
      "outputs": [
        {
          "output_type": "stream",
          "name": "stdout",
          "text": [
            "['speechiness', 'danceability', 'duration_ms', 'energy', 'track_album_release_date', 'instrumentalness', 'valence', 'key', 'tempo', 'loudness', 'acousticness', 'liveness', 'time_signature_1.0', 'time_signature_3.0', 'time_signature_4.0', 'time_signature_5.0', 'mode_0.0', 'mode_1.0']\n"
          ]
        }
      ]
    },
    {
      "cell_type": "code",
      "source": [
        "print(encoded_X.head())"
      ],
      "metadata": {
        "colab": {
          "base_uri": "https://localhost:8080/"
        },
        "id": "nwqj8rl8GvUM",
        "outputId": "ba5d48f6-0651-428a-ac15-5d0bfaaec08c"
      },
      "execution_count": null,
      "outputs": [
        {
          "output_type": "stream",
          "name": "stdout",
          "text": [
            "   speechiness  danceability  duration_ms  energy  track_album_release_date  \\\n",
            "0       0.2040         0.882     140733.0   0.764                     25710   \n",
            "1       0.1590         0.779     246960.0   0.640                     18868   \n",
            "2       0.2230         0.770     189707.0   0.597                     25739   \n",
            "3       0.3210         0.573     172296.0   0.693                     25879   \n",
            "4       0.0315         0.714     274488.0   0.720                     24464   \n",
            "\n",
            "   instrumentalness  valence   key    tempo  loudness  acousticness  liveness  \\\n",
            "0          0.000000    0.886  11.0  140.113    -5.241      0.359000    0.1190   \n",
            "1          0.000766    0.499   7.0   99.017    -8.415      0.000155    0.1010   \n",
            "2          0.000000    0.875   1.0  170.022    -4.901      0.530000    0.2390   \n",
            "3          0.004240    0.837   6.0  150.850    -6.220      0.609000    0.1960   \n",
            "4          0.000000    0.696   6.0  113.015    -6.751      0.092200    0.0742   \n",
            "\n",
            "   time_signature_1.0  time_signature_3.0  time_signature_4.0  \\\n",
            "0               False               False                True   \n",
            "1               False               False                True   \n",
            "2               False               False                True   \n",
            "3               False               False               False   \n",
            "4               False               False                True   \n",
            "\n",
            "   time_signature_5.0  mode_0.0  mode_1.0  \n",
            "0               False     False      True  \n",
            "1               False     False      True  \n",
            "2               False     False      True  \n",
            "3                True     False      True  \n",
            "4               False     False      True  \n"
          ]
        }
      ]
    },
    {
      "cell_type": "code",
      "source": [
        "selected_features = collist\n",
        "X_gen = encoded_X\n",
        "df_2xgen = encoded_df2"
      ],
      "metadata": {
        "id": "XejmTN2LWFx7"
      },
      "execution_count": null,
      "outputs": []
    },
    {
      "cell_type": "code",
      "source": [
        "X_gen['time_signature_1.0'] = False"
      ],
      "metadata": {
        "id": "AtEfIi50KAAk"
      },
      "execution_count": null,
      "outputs": []
    },
    {
      "cell_type": "code",
      "source": [
        "columns = X_gen.columns.tolist()"
      ],
      "metadata": {
        "id": "Sj-MB-dRKTcV"
      },
      "execution_count": null,
      "outputs": []
    },
    {
      "cell_type": "code",
      "source": [
        "print(columns.index('time_signature_3.0'))\n",
        "updated = ['time_signature_1.0', 'time_signature_3.0', 'time_signature_4.0', 'time_signature_5.0', 'mode_0.0', 'mode_1.0']\n",
        "for index in range(12, len(columns)):\n",
        "  columns[index] = updated[index-12]"
      ],
      "metadata": {
        "colab": {
          "base_uri": "https://localhost:8080/"
        },
        "id": "XcOpN3biKZag",
        "outputId": "a00462d1-43de-4d35-e875-1606cb732c0f"
      },
      "execution_count": null,
      "outputs": [
        {
          "output_type": "stream",
          "name": "stdout",
          "text": [
            "13\n"
          ]
        }
      ]
    },
    {
      "cell_type": "code",
      "source": [
        "X_gen = X_gen[columns]"
      ],
      "metadata": {
        "id": "LKhrNlKLLdlo"
      },
      "execution_count": null,
      "outputs": []
    },
    {
      "cell_type": "code",
      "source": [
        "print(X_gen.head())"
      ],
      "metadata": {
        "colab": {
          "base_uri": "https://localhost:8080/"
        },
        "id": "OFL_i10LLeym",
        "outputId": "0f5807c9-bd59-49ca-ac91-743b74afb491"
      },
      "execution_count": null,
      "outputs": [
        {
          "output_type": "stream",
          "name": "stdout",
          "text": [
            "   speechiness  danceability  duration_ms  energy  track_album_release_date  \\\n",
            "0       0.2040         0.882     140733.0   0.764                     25710   \n",
            "1       0.1590         0.779     246960.0   0.640                     18868   \n",
            "2       0.2230         0.770     189707.0   0.597                     25739   \n",
            "3       0.3210         0.573     172296.0   0.693                     25879   \n",
            "4       0.0315         0.714     274488.0   0.720                     24464   \n",
            "\n",
            "   instrumentalness  valence   key    tempo  loudness  acousticness  liveness  \\\n",
            "0          0.000000    0.886  11.0  140.113    -5.241      0.359000    0.1190   \n",
            "1          0.000766    0.499   7.0   99.017    -8.415      0.000155    0.1010   \n",
            "2          0.000000    0.875   1.0  170.022    -4.901      0.530000    0.2390   \n",
            "3          0.004240    0.837   6.0  150.850    -6.220      0.609000    0.1960   \n",
            "4          0.000000    0.696   6.0  113.015    -6.751      0.092200    0.0742   \n",
            "\n",
            "   time_signature_1.0  time_signature_3.0  time_signature_4.0  \\\n",
            "0               False               False                True   \n",
            "1               False               False                True   \n",
            "2               False               False                True   \n",
            "3               False               False               False   \n",
            "4               False               False                True   \n",
            "\n",
            "   time_signature_5.0  mode_0.0  mode_1.0  \n",
            "0               False     False      True  \n",
            "1               False     False      True  \n",
            "2               False     False      True  \n",
            "3                True     False      True  \n",
            "4               False     False      True  \n"
          ]
        }
      ]
    },
    {
      "cell_type": "code",
      "source": [
        "print(X_gen.shape)"
      ],
      "metadata": {
        "colab": {
          "base_uri": "https://localhost:8080/"
        },
        "id": "jrJogBricEg-",
        "outputId": "e998dad6-5fff-4735-b952-05823dc7e2c1"
      },
      "execution_count": null,
      "outputs": [
        {
          "output_type": "stream",
          "name": "stdout",
          "text": [
            "(3853, 18)\n"
          ]
        }
      ]
    },
    {
      "cell_type": "code",
      "source": [
        "print(df_2xgen.shape)\n",
        "print(df_2xgen.head())"
      ],
      "metadata": {
        "colab": {
          "base_uri": "https://localhost:8080/"
        },
        "id": "D7MEPz6qmDH9",
        "outputId": "1a0b317c-d306-43f3-9efa-eb16e3512640"
      },
      "execution_count": null,
      "outputs": [
        {
          "output_type": "stream",
          "name": "stdout",
          "text": [
            "(967, 18)\n",
            "   speechiness  danceability  duration_ms  energy  track_album_release_date  \\\n",
            "0       0.2580         0.584     180638.0   0.747                     25556   \n",
            "1       0.0422         0.816     158978.0   0.532                     25774   \n",
            "2       0.1150         0.849     139041.0   0.584                     24962   \n",
            "3       0.3660         0.584     253533.0   0.706                     15159   \n",
            "4       0.0281         0.429     266773.0   0.661                     16992   \n",
            "\n",
            "   instrumentalness  valence   key    tempo  loudness  acousticness  liveness  \\\n",
            "0          0.001300    0.798  10.0   98.111    -4.726       0.10500     0.149   \n",
            "1          0.000000    0.258   4.0  136.882    -5.634       0.21800     0.250   \n",
            "2          0.000006    0.724   1.0  115.018    -8.195       0.09290     0.492   \n",
            "3          0.000000    0.579  10.0  174.039    -7.899       0.20900     0.125   \n",
            "4          0.000121    0.285  11.0  173.372    -7.227       0.00239     0.234   \n",
            "\n",
            "   time_signature_1.0  time_signature_3.0  time_signature_4.0  \\\n",
            "0               False               False                True   \n",
            "1               False               False                True   \n",
            "2               False               False                True   \n",
            "3               False               False                True   \n",
            "4               False               False                True   \n",
            "\n",
            "   time_signature_5.0  mode_0.0  mode_1.0  \n",
            "0               False      True     False  \n",
            "1               False      True     False  \n",
            "2               False      True     False  \n",
            "3               False      True     False  \n",
            "4               False     False      True  \n"
          ]
        }
      ]
    },
    {
      "cell_type": "code",
      "source": [
        "#considered_features = ['time_signature', 'speechiness','danceability','duration_ms','energy', 'mode', 'instrumentalness','valence','key','tempo','loudness','acousticness','liveness']\n",
        "#df_x = pd.DataFrame(df_1, columns=considered_features)\n",
        "#X = df_x"
      ],
      "metadata": {
        "id": "1ddJqDyzWuB3"
      },
      "execution_count": null,
      "outputs": []
    },
    {
      "cell_type": "code",
      "source": [
        "#considered_features = ['time_signature', 'speechiness','danceability','duration_ms','energy', 'mode', 'instrumentalness','valence','key','tempo','loudness','acousticness','liveness']\n",
        "#df_2x = pd.DataFrame(df_2, columns=considered_features)\n",
        "#print(df_2x.head())\n"
      ],
      "metadata": {
        "id": "H-vnolsqUzkZ"
      },
      "execution_count": null,
      "outputs": []
    },
    {
      "cell_type": "code",
      "source": [
        "categorical_features = ['time_signature', 'mode', 'key']\n",
        "X_categ = pd.DataFrame(df_x, columns=categorical_features)\n",
        "df_2xcateg = pd.DataFrame(df_2, columns=categorical_features)\n",
        "\n",
        "X_categ= X_categ.astype(int)\n",
        "df_2xcateg= df_2xcateg.astype(int)\n",
        "\n",
        "#X_polytope = pd.concat([X_gen, X_categ], axis=1)\n",
        "X_gen.reset_index(drop=True, inplace=True)\n",
        "X_categ.reset_index(drop=True, inplace=True)\n",
        "X_polytope = pd.merge(X_gen, X_categ, left_index=True, right_index=True)\n",
        "\n",
        "df_2xgen.reset_index(drop=True, inplace=True)\n",
        "df_2xcateg.reset_index(drop=True, inplace=True)\n",
        "df_2xpolytope = pd.merge(df_2xgen, df_2xcateg, left_index=True, right_index=True)\n",
        "\n",
        "categorical_features = ['time_signature', 'mode', 'key']\n",
        "df_2xpolytope[categorical_features] = df_2xpolytope[categorical_features].astype(int)"
      ],
      "metadata": {
        "id": "SCgNQjMNAl9Z"
      },
      "execution_count": null,
      "outputs": []
    },
    {
      "cell_type": "markdown",
      "source": [
        "# Model training and tuning"
      ],
      "metadata": {
        "id": "EgXekUAki-oB"
      }
    },
    {
      "cell_type": "markdown",
      "source": [
        "Hyperparameter tuning a Random Forest"
      ],
      "metadata": {
        "id": "Ihb15e7GiSsp"
      }
    },
    {
      "cell_type": "code",
      "source": [
        "from sklearn.model_selection import cross_validate\n",
        "hyperparameter_score_list = []\n",
        "for n in [100, 200, 300, 400, 500, 600, 700, 800, 900, 1000]:\n",
        "  for d in [1, 7, 15, 20]:\n",
        "    for s in [2, 4, 8]:\n",
        "      rf = RandomForestClassifier(max_features = None, criterion = 'log_loss', n_estimators=n, min_samples_split = s, max_depth = d)\n",
        "      scores = cross_validate(rf, X_gen, y, cv=5, scoring=\"roc_auc\")\n",
        "      mean_score = np.mean(scores['test_score'])\n",
        "      hyperparameter_score_list.append([n, d, s, mean_score])"
      ],
      "metadata": {
        "colab": {
          "base_uri": "https://localhost:8080/",
          "height": 400
        },
        "id": "xk2HD5J3X6Em",
        "outputId": "60884b60-dc22-44c1-df4a-1495295c4655"
      },
      "execution_count": null,
      "outputs": [
        {
          "output_type": "error",
          "ename": "KeyboardInterrupt",
          "evalue": "",
          "traceback": [
            "\u001b[0;31m---------------------------------------------------------------------------\u001b[0m",
            "\u001b[0;31mKeyboardInterrupt\u001b[0m                         Traceback (most recent call last)",
            "\u001b[0;32m<ipython-input-101-ab8c5e925f9c>\u001b[0m in \u001b[0;36m<cell line: 0>\u001b[0;34m()\u001b[0m\n\u001b[1;32m      5\u001b[0m     \u001b[0;32mfor\u001b[0m \u001b[0ms\u001b[0m \u001b[0;32min\u001b[0m \u001b[0;34m[\u001b[0m\u001b[0;36m2\u001b[0m\u001b[0;34m,\u001b[0m \u001b[0;36m4\u001b[0m\u001b[0;34m,\u001b[0m \u001b[0;36m8\u001b[0m\u001b[0;34m]\u001b[0m\u001b[0;34m:\u001b[0m\u001b[0;34m\u001b[0m\u001b[0;34m\u001b[0m\u001b[0m\n\u001b[1;32m      6\u001b[0m       \u001b[0mrf\u001b[0m \u001b[0;34m=\u001b[0m \u001b[0mRandomForestClassifier\u001b[0m\u001b[0;34m(\u001b[0m\u001b[0mmax_features\u001b[0m \u001b[0;34m=\u001b[0m \u001b[0;32mNone\u001b[0m\u001b[0;34m,\u001b[0m \u001b[0mcriterion\u001b[0m \u001b[0;34m=\u001b[0m \u001b[0;34m'log_loss'\u001b[0m\u001b[0;34m,\u001b[0m \u001b[0mn_estimators\u001b[0m\u001b[0;34m=\u001b[0m\u001b[0mn\u001b[0m\u001b[0;34m,\u001b[0m \u001b[0mmin_samples_split\u001b[0m \u001b[0;34m=\u001b[0m \u001b[0ms\u001b[0m\u001b[0;34m,\u001b[0m \u001b[0mmax_depth\u001b[0m \u001b[0;34m=\u001b[0m \u001b[0md\u001b[0m\u001b[0;34m)\u001b[0m\u001b[0;34m\u001b[0m\u001b[0;34m\u001b[0m\u001b[0m\n\u001b[0;32m----> 7\u001b[0;31m       \u001b[0mscores\u001b[0m \u001b[0;34m=\u001b[0m \u001b[0mcross_validate\u001b[0m\u001b[0;34m(\u001b[0m\u001b[0mrf\u001b[0m\u001b[0;34m,\u001b[0m \u001b[0mX_gen\u001b[0m\u001b[0;34m,\u001b[0m \u001b[0my\u001b[0m\u001b[0;34m,\u001b[0m \u001b[0mcv\u001b[0m\u001b[0;34m=\u001b[0m\u001b[0;36m5\u001b[0m\u001b[0;34m,\u001b[0m \u001b[0mscoring\u001b[0m\u001b[0;34m=\u001b[0m\u001b[0;34m\"roc_auc\"\u001b[0m\u001b[0;34m)\u001b[0m\u001b[0;34m\u001b[0m\u001b[0;34m\u001b[0m\u001b[0m\n\u001b[0m\u001b[1;32m      8\u001b[0m       \u001b[0mmean_score\u001b[0m \u001b[0;34m=\u001b[0m \u001b[0mnp\u001b[0m\u001b[0;34m.\u001b[0m\u001b[0mmean\u001b[0m\u001b[0;34m(\u001b[0m\u001b[0mscores\u001b[0m\u001b[0;34m[\u001b[0m\u001b[0;34m'test_score'\u001b[0m\u001b[0;34m]\u001b[0m\u001b[0;34m)\u001b[0m\u001b[0;34m\u001b[0m\u001b[0;34m\u001b[0m\u001b[0m\n\u001b[1;32m      9\u001b[0m       \u001b[0mhyperparameter_score_list\u001b[0m\u001b[0;34m.\u001b[0m\u001b[0mappend\u001b[0m\u001b[0;34m(\u001b[0m\u001b[0;34m[\u001b[0m\u001b[0mn\u001b[0m\u001b[0;34m,\u001b[0m \u001b[0md\u001b[0m\u001b[0;34m,\u001b[0m \u001b[0ms\u001b[0m\u001b[0;34m,\u001b[0m \u001b[0mmean_score\u001b[0m\u001b[0;34m]\u001b[0m\u001b[0;34m)\u001b[0m\u001b[0;34m\u001b[0m\u001b[0;34m\u001b[0m\u001b[0m\n",
            "\u001b[0;32m/usr/local/lib/python3.11/dist-packages/sklearn/utils/_param_validation.py\u001b[0m in \u001b[0;36mwrapper\u001b[0;34m(*args, **kwargs)\u001b[0m\n\u001b[1;32m    209\u001b[0m                     )\n\u001b[1;32m    210\u001b[0m                 ):\n\u001b[0;32m--> 211\u001b[0;31m                     \u001b[0;32mreturn\u001b[0m \u001b[0mfunc\u001b[0m\u001b[0;34m(\u001b[0m\u001b[0;34m*\u001b[0m\u001b[0margs\u001b[0m\u001b[0;34m,\u001b[0m \u001b[0;34m**\u001b[0m\u001b[0mkwargs\u001b[0m\u001b[0;34m)\u001b[0m\u001b[0;34m\u001b[0m\u001b[0;34m\u001b[0m\u001b[0m\n\u001b[0m\u001b[1;32m    212\u001b[0m             \u001b[0;32mexcept\u001b[0m \u001b[0mInvalidParameterError\u001b[0m \u001b[0;32mas\u001b[0m \u001b[0me\u001b[0m\u001b[0;34m:\u001b[0m\u001b[0;34m\u001b[0m\u001b[0;34m\u001b[0m\u001b[0m\n\u001b[1;32m    213\u001b[0m                 \u001b[0;31m# When the function is just a wrapper around an estimator, we allow\u001b[0m\u001b[0;34m\u001b[0m\u001b[0;34m\u001b[0m\u001b[0m\n",
            "\u001b[0;32m/usr/local/lib/python3.11/dist-packages/sklearn/model_selection/_validation.py\u001b[0m in \u001b[0;36mcross_validate\u001b[0;34m(estimator, X, y, groups, scoring, cv, n_jobs, verbose, fit_params, pre_dispatch, return_train_score, return_estimator, return_indices, error_score)\u001b[0m\n\u001b[1;32m    307\u001b[0m     \u001b[0;31m# independent, and that it is pickle-able.\u001b[0m\u001b[0;34m\u001b[0m\u001b[0;34m\u001b[0m\u001b[0m\n\u001b[1;32m    308\u001b[0m     \u001b[0mparallel\u001b[0m \u001b[0;34m=\u001b[0m \u001b[0mParallel\u001b[0m\u001b[0;34m(\u001b[0m\u001b[0mn_jobs\u001b[0m\u001b[0;34m=\u001b[0m\u001b[0mn_jobs\u001b[0m\u001b[0;34m,\u001b[0m \u001b[0mverbose\u001b[0m\u001b[0;34m=\u001b[0m\u001b[0mverbose\u001b[0m\u001b[0;34m,\u001b[0m \u001b[0mpre_dispatch\u001b[0m\u001b[0;34m=\u001b[0m\u001b[0mpre_dispatch\u001b[0m\u001b[0;34m)\u001b[0m\u001b[0;34m\u001b[0m\u001b[0;34m\u001b[0m\u001b[0m\n\u001b[0;32m--> 309\u001b[0;31m     results = parallel(\n\u001b[0m\u001b[1;32m    310\u001b[0m         delayed(_fit_and_score)(\n\u001b[1;32m    311\u001b[0m             \u001b[0mclone\u001b[0m\u001b[0;34m(\u001b[0m\u001b[0mestimator\u001b[0m\u001b[0;34m)\u001b[0m\u001b[0;34m,\u001b[0m\u001b[0;34m\u001b[0m\u001b[0;34m\u001b[0m\u001b[0m\n",
            "\u001b[0;32m/usr/local/lib/python3.11/dist-packages/sklearn/utils/parallel.py\u001b[0m in \u001b[0;36m__call__\u001b[0;34m(self, iterable)\u001b[0m\n\u001b[1;32m     63\u001b[0m             \u001b[0;32mfor\u001b[0m \u001b[0mdelayed_func\u001b[0m\u001b[0;34m,\u001b[0m \u001b[0margs\u001b[0m\u001b[0;34m,\u001b[0m \u001b[0mkwargs\u001b[0m \u001b[0;32min\u001b[0m \u001b[0miterable\u001b[0m\u001b[0;34m\u001b[0m\u001b[0;34m\u001b[0m\u001b[0m\n\u001b[1;32m     64\u001b[0m         )\n\u001b[0;32m---> 65\u001b[0;31m         \u001b[0;32mreturn\u001b[0m \u001b[0msuper\u001b[0m\u001b[0;34m(\u001b[0m\u001b[0;34m)\u001b[0m\u001b[0;34m.\u001b[0m\u001b[0m__call__\u001b[0m\u001b[0;34m(\u001b[0m\u001b[0miterable_with_config\u001b[0m\u001b[0;34m)\u001b[0m\u001b[0;34m\u001b[0m\u001b[0;34m\u001b[0m\u001b[0m\n\u001b[0m\u001b[1;32m     66\u001b[0m \u001b[0;34m\u001b[0m\u001b[0m\n\u001b[1;32m     67\u001b[0m \u001b[0;34m\u001b[0m\u001b[0m\n",
            "\u001b[0;32m/usr/local/lib/python3.11/dist-packages/joblib/parallel.py\u001b[0m in \u001b[0;36m__call__\u001b[0;34m(self, iterable)\u001b[0m\n\u001b[1;32m   1916\u001b[0m             \u001b[0moutput\u001b[0m \u001b[0;34m=\u001b[0m \u001b[0mself\u001b[0m\u001b[0;34m.\u001b[0m\u001b[0m_get_sequential_output\u001b[0m\u001b[0;34m(\u001b[0m\u001b[0miterable\u001b[0m\u001b[0;34m)\u001b[0m\u001b[0;34m\u001b[0m\u001b[0;34m\u001b[0m\u001b[0m\n\u001b[1;32m   1917\u001b[0m             \u001b[0mnext\u001b[0m\u001b[0;34m(\u001b[0m\u001b[0moutput\u001b[0m\u001b[0;34m)\u001b[0m\u001b[0;34m\u001b[0m\u001b[0;34m\u001b[0m\u001b[0m\n\u001b[0;32m-> 1918\u001b[0;31m             \u001b[0;32mreturn\u001b[0m \u001b[0moutput\u001b[0m \u001b[0;32mif\u001b[0m \u001b[0mself\u001b[0m\u001b[0;34m.\u001b[0m\u001b[0mreturn_generator\u001b[0m \u001b[0;32melse\u001b[0m \u001b[0mlist\u001b[0m\u001b[0;34m(\u001b[0m\u001b[0moutput\u001b[0m\u001b[0;34m)\u001b[0m\u001b[0;34m\u001b[0m\u001b[0;34m\u001b[0m\u001b[0m\n\u001b[0m\u001b[1;32m   1919\u001b[0m \u001b[0;34m\u001b[0m\u001b[0m\n\u001b[1;32m   1920\u001b[0m         \u001b[0;31m# Let's create an ID that uniquely identifies the current call. If the\u001b[0m\u001b[0;34m\u001b[0m\u001b[0;34m\u001b[0m\u001b[0m\n",
            "\u001b[0;32m/usr/local/lib/python3.11/dist-packages/joblib/parallel.py\u001b[0m in \u001b[0;36m_get_sequential_output\u001b[0;34m(self, iterable)\u001b[0m\n\u001b[1;32m   1845\u001b[0m                 \u001b[0mself\u001b[0m\u001b[0;34m.\u001b[0m\u001b[0mn_dispatched_batches\u001b[0m \u001b[0;34m+=\u001b[0m \u001b[0;36m1\u001b[0m\u001b[0;34m\u001b[0m\u001b[0;34m\u001b[0m\u001b[0m\n\u001b[1;32m   1846\u001b[0m                 \u001b[0mself\u001b[0m\u001b[0;34m.\u001b[0m\u001b[0mn_dispatched_tasks\u001b[0m \u001b[0;34m+=\u001b[0m \u001b[0;36m1\u001b[0m\u001b[0;34m\u001b[0m\u001b[0;34m\u001b[0m\u001b[0m\n\u001b[0;32m-> 1847\u001b[0;31m                 \u001b[0mres\u001b[0m \u001b[0;34m=\u001b[0m \u001b[0mfunc\u001b[0m\u001b[0;34m(\u001b[0m\u001b[0;34m*\u001b[0m\u001b[0margs\u001b[0m\u001b[0;34m,\u001b[0m \u001b[0;34m**\u001b[0m\u001b[0mkwargs\u001b[0m\u001b[0;34m)\u001b[0m\u001b[0;34m\u001b[0m\u001b[0;34m\u001b[0m\u001b[0m\n\u001b[0m\u001b[1;32m   1848\u001b[0m                 \u001b[0mself\u001b[0m\u001b[0;34m.\u001b[0m\u001b[0mn_completed_tasks\u001b[0m \u001b[0;34m+=\u001b[0m \u001b[0;36m1\u001b[0m\u001b[0;34m\u001b[0m\u001b[0;34m\u001b[0m\u001b[0m\n\u001b[1;32m   1849\u001b[0m                 \u001b[0mself\u001b[0m\u001b[0;34m.\u001b[0m\u001b[0mprint_progress\u001b[0m\u001b[0;34m(\u001b[0m\u001b[0;34m)\u001b[0m\u001b[0;34m\u001b[0m\u001b[0;34m\u001b[0m\u001b[0m\n",
            "\u001b[0;32m/usr/local/lib/python3.11/dist-packages/sklearn/utils/parallel.py\u001b[0m in \u001b[0;36m__call__\u001b[0;34m(self, *args, **kwargs)\u001b[0m\n\u001b[1;32m    125\u001b[0m             \u001b[0mconfig\u001b[0m \u001b[0;34m=\u001b[0m \u001b[0;34m{\u001b[0m\u001b[0;34m}\u001b[0m\u001b[0;34m\u001b[0m\u001b[0;34m\u001b[0m\u001b[0m\n\u001b[1;32m    126\u001b[0m         \u001b[0;32mwith\u001b[0m \u001b[0mconfig_context\u001b[0m\u001b[0;34m(\u001b[0m\u001b[0;34m**\u001b[0m\u001b[0mconfig\u001b[0m\u001b[0;34m)\u001b[0m\u001b[0;34m:\u001b[0m\u001b[0;34m\u001b[0m\u001b[0;34m\u001b[0m\u001b[0m\n\u001b[0;32m--> 127\u001b[0;31m             \u001b[0;32mreturn\u001b[0m \u001b[0mself\u001b[0m\u001b[0;34m.\u001b[0m\u001b[0mfunction\u001b[0m\u001b[0;34m(\u001b[0m\u001b[0;34m*\u001b[0m\u001b[0margs\u001b[0m\u001b[0;34m,\u001b[0m \u001b[0;34m**\u001b[0m\u001b[0mkwargs\u001b[0m\u001b[0;34m)\u001b[0m\u001b[0;34m\u001b[0m\u001b[0;34m\u001b[0m\u001b[0m\n\u001b[0m",
            "\u001b[0;32m/usr/local/lib/python3.11/dist-packages/sklearn/model_selection/_validation.py\u001b[0m in \u001b[0;36m_fit_and_score\u001b[0;34m(estimator, X, y, scorer, train, test, verbose, parameters, fit_params, return_train_score, return_parameters, return_n_test_samples, return_times, return_estimator, split_progress, candidate_progress, error_score)\u001b[0m\n\u001b[1;32m    727\u001b[0m             \u001b[0mestimator\u001b[0m\u001b[0;34m.\u001b[0m\u001b[0mfit\u001b[0m\u001b[0;34m(\u001b[0m\u001b[0mX_train\u001b[0m\u001b[0;34m,\u001b[0m \u001b[0;34m**\u001b[0m\u001b[0mfit_params\u001b[0m\u001b[0;34m)\u001b[0m\u001b[0;34m\u001b[0m\u001b[0;34m\u001b[0m\u001b[0m\n\u001b[1;32m    728\u001b[0m         \u001b[0;32melse\u001b[0m\u001b[0;34m:\u001b[0m\u001b[0;34m\u001b[0m\u001b[0;34m\u001b[0m\u001b[0m\n\u001b[0;32m--> 729\u001b[0;31m             \u001b[0mestimator\u001b[0m\u001b[0;34m.\u001b[0m\u001b[0mfit\u001b[0m\u001b[0;34m(\u001b[0m\u001b[0mX_train\u001b[0m\u001b[0;34m,\u001b[0m \u001b[0my_train\u001b[0m\u001b[0;34m,\u001b[0m \u001b[0;34m**\u001b[0m\u001b[0mfit_params\u001b[0m\u001b[0;34m)\u001b[0m\u001b[0;34m\u001b[0m\u001b[0;34m\u001b[0m\u001b[0m\n\u001b[0m\u001b[1;32m    730\u001b[0m \u001b[0;34m\u001b[0m\u001b[0m\n\u001b[1;32m    731\u001b[0m     \u001b[0;32mexcept\u001b[0m \u001b[0mException\u001b[0m\u001b[0;34m:\u001b[0m\u001b[0;34m\u001b[0m\u001b[0;34m\u001b[0m\u001b[0m\n",
            "\u001b[0;32m/usr/local/lib/python3.11/dist-packages/sklearn/base.py\u001b[0m in \u001b[0;36mwrapper\u001b[0;34m(estimator, *args, **kwargs)\u001b[0m\n\u001b[1;32m   1150\u001b[0m                 )\n\u001b[1;32m   1151\u001b[0m             ):\n\u001b[0;32m-> 1152\u001b[0;31m                 \u001b[0;32mreturn\u001b[0m \u001b[0mfit_method\u001b[0m\u001b[0;34m(\u001b[0m\u001b[0mestimator\u001b[0m\u001b[0;34m,\u001b[0m \u001b[0;34m*\u001b[0m\u001b[0margs\u001b[0m\u001b[0;34m,\u001b[0m \u001b[0;34m**\u001b[0m\u001b[0mkwargs\u001b[0m\u001b[0;34m)\u001b[0m\u001b[0;34m\u001b[0m\u001b[0;34m\u001b[0m\u001b[0m\n\u001b[0m\u001b[1;32m   1153\u001b[0m \u001b[0;34m\u001b[0m\u001b[0m\n\u001b[1;32m   1154\u001b[0m         \u001b[0;32mreturn\u001b[0m \u001b[0mwrapper\u001b[0m\u001b[0;34m\u001b[0m\u001b[0;34m\u001b[0m\u001b[0m\n",
            "\u001b[0;32m/usr/local/lib/python3.11/dist-packages/sklearn/ensemble/_forest.py\u001b[0m in \u001b[0;36mfit\u001b[0;34m(self, X, y, sample_weight)\u001b[0m\n\u001b[1;32m    454\u001b[0m             \u001b[0;31m# parallel_backend contexts set at a higher level,\u001b[0m\u001b[0;34m\u001b[0m\u001b[0;34m\u001b[0m\u001b[0m\n\u001b[1;32m    455\u001b[0m             \u001b[0;31m# since correctness does not rely on using threads.\u001b[0m\u001b[0;34m\u001b[0m\u001b[0;34m\u001b[0m\u001b[0m\n\u001b[0;32m--> 456\u001b[0;31m             trees = Parallel(\n\u001b[0m\u001b[1;32m    457\u001b[0m                 \u001b[0mn_jobs\u001b[0m\u001b[0;34m=\u001b[0m\u001b[0mself\u001b[0m\u001b[0;34m.\u001b[0m\u001b[0mn_jobs\u001b[0m\u001b[0;34m,\u001b[0m\u001b[0;34m\u001b[0m\u001b[0;34m\u001b[0m\u001b[0m\n\u001b[1;32m    458\u001b[0m                 \u001b[0mverbose\u001b[0m\u001b[0;34m=\u001b[0m\u001b[0mself\u001b[0m\u001b[0;34m.\u001b[0m\u001b[0mverbose\u001b[0m\u001b[0;34m,\u001b[0m\u001b[0;34m\u001b[0m\u001b[0;34m\u001b[0m\u001b[0m\n",
            "\u001b[0;32m/usr/local/lib/python3.11/dist-packages/sklearn/utils/parallel.py\u001b[0m in \u001b[0;36m__call__\u001b[0;34m(self, iterable)\u001b[0m\n\u001b[1;32m     63\u001b[0m             \u001b[0;32mfor\u001b[0m \u001b[0mdelayed_func\u001b[0m\u001b[0;34m,\u001b[0m \u001b[0margs\u001b[0m\u001b[0;34m,\u001b[0m \u001b[0mkwargs\u001b[0m \u001b[0;32min\u001b[0m \u001b[0miterable\u001b[0m\u001b[0;34m\u001b[0m\u001b[0;34m\u001b[0m\u001b[0m\n\u001b[1;32m     64\u001b[0m         )\n\u001b[0;32m---> 65\u001b[0;31m         \u001b[0;32mreturn\u001b[0m \u001b[0msuper\u001b[0m\u001b[0;34m(\u001b[0m\u001b[0;34m)\u001b[0m\u001b[0;34m.\u001b[0m\u001b[0m__call__\u001b[0m\u001b[0;34m(\u001b[0m\u001b[0miterable_with_config\u001b[0m\u001b[0;34m)\u001b[0m\u001b[0;34m\u001b[0m\u001b[0;34m\u001b[0m\u001b[0m\n\u001b[0m\u001b[1;32m     66\u001b[0m \u001b[0;34m\u001b[0m\u001b[0m\n\u001b[1;32m     67\u001b[0m \u001b[0;34m\u001b[0m\u001b[0m\n",
            "\u001b[0;32m/usr/local/lib/python3.11/dist-packages/joblib/parallel.py\u001b[0m in \u001b[0;36m__call__\u001b[0;34m(self, iterable)\u001b[0m\n\u001b[1;32m   1916\u001b[0m             \u001b[0moutput\u001b[0m \u001b[0;34m=\u001b[0m \u001b[0mself\u001b[0m\u001b[0;34m.\u001b[0m\u001b[0m_get_sequential_output\u001b[0m\u001b[0;34m(\u001b[0m\u001b[0miterable\u001b[0m\u001b[0;34m)\u001b[0m\u001b[0;34m\u001b[0m\u001b[0;34m\u001b[0m\u001b[0m\n\u001b[1;32m   1917\u001b[0m             \u001b[0mnext\u001b[0m\u001b[0;34m(\u001b[0m\u001b[0moutput\u001b[0m\u001b[0;34m)\u001b[0m\u001b[0;34m\u001b[0m\u001b[0;34m\u001b[0m\u001b[0m\n\u001b[0;32m-> 1918\u001b[0;31m             \u001b[0;32mreturn\u001b[0m \u001b[0moutput\u001b[0m \u001b[0;32mif\u001b[0m \u001b[0mself\u001b[0m\u001b[0;34m.\u001b[0m\u001b[0mreturn_generator\u001b[0m \u001b[0;32melse\u001b[0m \u001b[0mlist\u001b[0m\u001b[0;34m(\u001b[0m\u001b[0moutput\u001b[0m\u001b[0;34m)\u001b[0m\u001b[0;34m\u001b[0m\u001b[0;34m\u001b[0m\u001b[0m\n\u001b[0m\u001b[1;32m   1919\u001b[0m \u001b[0;34m\u001b[0m\u001b[0m\n\u001b[1;32m   1920\u001b[0m         \u001b[0;31m# Let's create an ID that uniquely identifies the current call. If the\u001b[0m\u001b[0;34m\u001b[0m\u001b[0;34m\u001b[0m\u001b[0m\n",
            "\u001b[0;32m/usr/local/lib/python3.11/dist-packages/joblib/parallel.py\u001b[0m in \u001b[0;36m_get_sequential_output\u001b[0;34m(self, iterable)\u001b[0m\n\u001b[1;32m   1845\u001b[0m                 \u001b[0mself\u001b[0m\u001b[0;34m.\u001b[0m\u001b[0mn_dispatched_batches\u001b[0m \u001b[0;34m+=\u001b[0m \u001b[0;36m1\u001b[0m\u001b[0;34m\u001b[0m\u001b[0;34m\u001b[0m\u001b[0m\n\u001b[1;32m   1846\u001b[0m                 \u001b[0mself\u001b[0m\u001b[0;34m.\u001b[0m\u001b[0mn_dispatched_tasks\u001b[0m \u001b[0;34m+=\u001b[0m \u001b[0;36m1\u001b[0m\u001b[0;34m\u001b[0m\u001b[0;34m\u001b[0m\u001b[0m\n\u001b[0;32m-> 1847\u001b[0;31m                 \u001b[0mres\u001b[0m \u001b[0;34m=\u001b[0m \u001b[0mfunc\u001b[0m\u001b[0;34m(\u001b[0m\u001b[0;34m*\u001b[0m\u001b[0margs\u001b[0m\u001b[0;34m,\u001b[0m \u001b[0;34m**\u001b[0m\u001b[0mkwargs\u001b[0m\u001b[0;34m)\u001b[0m\u001b[0;34m\u001b[0m\u001b[0;34m\u001b[0m\u001b[0m\n\u001b[0m\u001b[1;32m   1848\u001b[0m                 \u001b[0mself\u001b[0m\u001b[0;34m.\u001b[0m\u001b[0mn_completed_tasks\u001b[0m \u001b[0;34m+=\u001b[0m \u001b[0;36m1\u001b[0m\u001b[0;34m\u001b[0m\u001b[0;34m\u001b[0m\u001b[0m\n\u001b[1;32m   1849\u001b[0m                 \u001b[0mself\u001b[0m\u001b[0;34m.\u001b[0m\u001b[0mprint_progress\u001b[0m\u001b[0;34m(\u001b[0m\u001b[0;34m)\u001b[0m\u001b[0;34m\u001b[0m\u001b[0;34m\u001b[0m\u001b[0m\n",
            "\u001b[0;32m/usr/local/lib/python3.11/dist-packages/sklearn/utils/parallel.py\u001b[0m in \u001b[0;36m__call__\u001b[0;34m(self, *args, **kwargs)\u001b[0m\n\u001b[1;32m    125\u001b[0m             \u001b[0mconfig\u001b[0m \u001b[0;34m=\u001b[0m \u001b[0;34m{\u001b[0m\u001b[0;34m}\u001b[0m\u001b[0;34m\u001b[0m\u001b[0;34m\u001b[0m\u001b[0m\n\u001b[1;32m    126\u001b[0m         \u001b[0;32mwith\u001b[0m \u001b[0mconfig_context\u001b[0m\u001b[0;34m(\u001b[0m\u001b[0;34m**\u001b[0m\u001b[0mconfig\u001b[0m\u001b[0;34m)\u001b[0m\u001b[0;34m:\u001b[0m\u001b[0;34m\u001b[0m\u001b[0;34m\u001b[0m\u001b[0m\n\u001b[0;32m--> 127\u001b[0;31m             \u001b[0;32mreturn\u001b[0m \u001b[0mself\u001b[0m\u001b[0;34m.\u001b[0m\u001b[0mfunction\u001b[0m\u001b[0;34m(\u001b[0m\u001b[0;34m*\u001b[0m\u001b[0margs\u001b[0m\u001b[0;34m,\u001b[0m \u001b[0;34m**\u001b[0m\u001b[0mkwargs\u001b[0m\u001b[0;34m)\u001b[0m\u001b[0;34m\u001b[0m\u001b[0;34m\u001b[0m\u001b[0m\n\u001b[0m",
            "\u001b[0;32m/usr/local/lib/python3.11/dist-packages/sklearn/ensemble/_forest.py\u001b[0m in \u001b[0;36m_parallel_build_trees\u001b[0;34m(tree, bootstrap, X, y, sample_weight, tree_idx, n_trees, verbose, class_weight, n_samples_bootstrap)\u001b[0m\n\u001b[1;32m    186\u001b[0m             \u001b[0mcurr_sample_weight\u001b[0m \u001b[0;34m*=\u001b[0m \u001b[0mcompute_sample_weight\u001b[0m\u001b[0;34m(\u001b[0m\u001b[0;34m\"balanced\"\u001b[0m\u001b[0;34m,\u001b[0m \u001b[0my\u001b[0m\u001b[0;34m,\u001b[0m \u001b[0mindices\u001b[0m\u001b[0;34m=\u001b[0m\u001b[0mindices\u001b[0m\u001b[0;34m)\u001b[0m\u001b[0;34m\u001b[0m\u001b[0;34m\u001b[0m\u001b[0m\n\u001b[1;32m    187\u001b[0m \u001b[0;34m\u001b[0m\u001b[0m\n\u001b[0;32m--> 188\u001b[0;31m         \u001b[0mtree\u001b[0m\u001b[0;34m.\u001b[0m\u001b[0mfit\u001b[0m\u001b[0;34m(\u001b[0m\u001b[0mX\u001b[0m\u001b[0;34m,\u001b[0m \u001b[0my\u001b[0m\u001b[0;34m,\u001b[0m \u001b[0msample_weight\u001b[0m\u001b[0;34m=\u001b[0m\u001b[0mcurr_sample_weight\u001b[0m\u001b[0;34m,\u001b[0m \u001b[0mcheck_input\u001b[0m\u001b[0;34m=\u001b[0m\u001b[0;32mFalse\u001b[0m\u001b[0;34m)\u001b[0m\u001b[0;34m\u001b[0m\u001b[0;34m\u001b[0m\u001b[0m\n\u001b[0m\u001b[1;32m    189\u001b[0m     \u001b[0;32melse\u001b[0m\u001b[0;34m:\u001b[0m\u001b[0;34m\u001b[0m\u001b[0;34m\u001b[0m\u001b[0m\n\u001b[1;32m    190\u001b[0m         \u001b[0mtree\u001b[0m\u001b[0;34m.\u001b[0m\u001b[0mfit\u001b[0m\u001b[0;34m(\u001b[0m\u001b[0mX\u001b[0m\u001b[0;34m,\u001b[0m \u001b[0my\u001b[0m\u001b[0;34m,\u001b[0m \u001b[0msample_weight\u001b[0m\u001b[0;34m=\u001b[0m\u001b[0msample_weight\u001b[0m\u001b[0;34m,\u001b[0m \u001b[0mcheck_input\u001b[0m\u001b[0;34m=\u001b[0m\u001b[0;32mFalse\u001b[0m\u001b[0;34m)\u001b[0m\u001b[0;34m\u001b[0m\u001b[0;34m\u001b[0m\u001b[0m\n",
            "\u001b[0;32m/usr/local/lib/python3.11/dist-packages/sklearn/base.py\u001b[0m in \u001b[0;36mwrapper\u001b[0;34m(estimator, *args, **kwargs)\u001b[0m\n\u001b[1;32m   1150\u001b[0m                 )\n\u001b[1;32m   1151\u001b[0m             ):\n\u001b[0;32m-> 1152\u001b[0;31m                 \u001b[0;32mreturn\u001b[0m \u001b[0mfit_method\u001b[0m\u001b[0;34m(\u001b[0m\u001b[0mestimator\u001b[0m\u001b[0;34m,\u001b[0m \u001b[0;34m*\u001b[0m\u001b[0margs\u001b[0m\u001b[0;34m,\u001b[0m \u001b[0;34m**\u001b[0m\u001b[0mkwargs\u001b[0m\u001b[0;34m)\u001b[0m\u001b[0;34m\u001b[0m\u001b[0;34m\u001b[0m\u001b[0m\n\u001b[0m\u001b[1;32m   1153\u001b[0m \u001b[0;34m\u001b[0m\u001b[0m\n\u001b[1;32m   1154\u001b[0m         \u001b[0;32mreturn\u001b[0m \u001b[0mwrapper\u001b[0m\u001b[0;34m\u001b[0m\u001b[0;34m\u001b[0m\u001b[0m\n",
            "\u001b[0;32m/usr/local/lib/python3.11/dist-packages/sklearn/tree/_classes.py\u001b[0m in \u001b[0;36mfit\u001b[0;34m(self, X, y, sample_weight, check_input)\u001b[0m\n\u001b[1;32m    957\u001b[0m         \"\"\"\n\u001b[1;32m    958\u001b[0m \u001b[0;34m\u001b[0m\u001b[0m\n\u001b[0;32m--> 959\u001b[0;31m         super()._fit(\n\u001b[0m\u001b[1;32m    960\u001b[0m             \u001b[0mX\u001b[0m\u001b[0;34m,\u001b[0m\u001b[0;34m\u001b[0m\u001b[0;34m\u001b[0m\u001b[0m\n\u001b[1;32m    961\u001b[0m             \u001b[0my\u001b[0m\u001b[0;34m,\u001b[0m\u001b[0;34m\u001b[0m\u001b[0;34m\u001b[0m\u001b[0m\n",
            "\u001b[0;32m/usr/local/lib/python3.11/dist-packages/sklearn/tree/_classes.py\u001b[0m in \u001b[0;36m_fit\u001b[0;34m(self, X, y, sample_weight, check_input, missing_values_in_feature_mask)\u001b[0m\n\u001b[1;32m    441\u001b[0m             )\n\u001b[1;32m    442\u001b[0m \u001b[0;34m\u001b[0m\u001b[0m\n\u001b[0;32m--> 443\u001b[0;31m         \u001b[0mbuilder\u001b[0m\u001b[0;34m.\u001b[0m\u001b[0mbuild\u001b[0m\u001b[0;34m(\u001b[0m\u001b[0mself\u001b[0m\u001b[0;34m.\u001b[0m\u001b[0mtree_\u001b[0m\u001b[0;34m,\u001b[0m \u001b[0mX\u001b[0m\u001b[0;34m,\u001b[0m \u001b[0my\u001b[0m\u001b[0;34m,\u001b[0m \u001b[0msample_weight\u001b[0m\u001b[0;34m,\u001b[0m \u001b[0mmissing_values_in_feature_mask\u001b[0m\u001b[0;34m)\u001b[0m\u001b[0;34m\u001b[0m\u001b[0;34m\u001b[0m\u001b[0m\n\u001b[0m\u001b[1;32m    444\u001b[0m \u001b[0;34m\u001b[0m\u001b[0m\n\u001b[1;32m    445\u001b[0m         \u001b[0;32mif\u001b[0m \u001b[0mself\u001b[0m\u001b[0;34m.\u001b[0m\u001b[0mn_outputs_\u001b[0m \u001b[0;34m==\u001b[0m \u001b[0;36m1\u001b[0m \u001b[0;32mand\u001b[0m \u001b[0mis_classifier\u001b[0m\u001b[0;34m(\u001b[0m\u001b[0mself\u001b[0m\u001b[0;34m)\u001b[0m\u001b[0;34m:\u001b[0m\u001b[0;34m\u001b[0m\u001b[0;34m\u001b[0m\u001b[0m\n",
            "\u001b[0;31mKeyboardInterrupt\u001b[0m: "
          ]
        }
      ]
    },
    {
      "cell_type": "code",
      "source": [
        "from prettytable import PrettyTable\n",
        "myTable = PrettyTable([\"n_estimators\", \"max_depth\", \"min_split\", \"accuracy\"])\n",
        "for row in hyperparameter_score_list:\n",
        "    myTable.add_row([row[0], row[1], row[2], round(row[3], 3)])\n",
        "print(myTable)"
      ],
      "metadata": {
        "colab": {
          "base_uri": "https://localhost:8080/"
        },
        "id": "onWsCsZmgjX5",
        "outputId": "a92b6531-9e7c-42b8-b658-15a7137d23fc"
      },
      "execution_count": null,
      "outputs": [
        {
          "output_type": "stream",
          "name": "stdout",
          "text": [
            "+--------------+-----------+-----------+----------+\n",
            "| n_estimators | max_depth | min_split | accuracy |\n",
            "+--------------+-----------+-----------+----------+\n",
            "|     100      |     1     |     2     |  0.651   |\n",
            "|     100      |     1     |     4     |  0.653   |\n",
            "|     100      |     1     |     8     |  0.654   |\n",
            "|     100      |     7     |     2     |  0.824   |\n",
            "|     100      |     7     |     4     |  0.824   |\n",
            "|     100      |     7     |     8     |  0.822   |\n",
            "|     100      |     15    |     2     |  0.834   |\n",
            "|     100      |     15    |     4     |  0.837   |\n",
            "|     100      |     15    |     8     |  0.837   |\n",
            "|     100      |     20    |     2     |  0.836   |\n",
            "|     100      |     20    |     4     |  0.838   |\n",
            "|     100      |     20    |     8     |  0.836   |\n",
            "|     200      |     1     |     2     |  0.654   |\n",
            "|     200      |     1     |     4     |  0.652   |\n",
            "|     200      |     1     |     8     |  0.653   |\n",
            "|     200      |     7     |     2     |  0.824   |\n",
            "|     200      |     7     |     4     |  0.824   |\n",
            "|     200      |     7     |     8     |  0.822   |\n",
            "|     200      |     15    |     2     |  0.839   |\n",
            "|     200      |     15    |     4     |  0.839   |\n",
            "|     200      |     15    |     8     |  0.839   |\n",
            "|     200      |     20    |     2     |  0.838   |\n",
            "|     200      |     20    |     4     |  0.839   |\n",
            "|     200      |     20    |     8     |  0.839   |\n",
            "|     300      |     1     |     2     |  0.654   |\n",
            "|     300      |     1     |     4     |  0.655   |\n",
            "|     300      |     1     |     8     |  0.655   |\n",
            "|     300      |     7     |     2     |  0.823   |\n",
            "|     300      |     7     |     4     |  0.825   |\n",
            "|     300      |     7     |     8     |  0.823   |\n",
            "|     300      |     15    |     2     |  0.839   |\n",
            "|     300      |     15    |     4     |  0.841   |\n",
            "|     300      |     15    |     8     |   0.84   |\n",
            "|     300      |     20    |     2     |  0.839   |\n",
            "|     300      |     20    |     4     |  0.839   |\n",
            "|     300      |     20    |     8     |   0.84   |\n",
            "|     400      |     1     |     2     |  0.654   |\n",
            "|     400      |     1     |     4     |  0.655   |\n",
            "|     400      |     1     |     8     |   0.66   |\n",
            "|     400      |     7     |     2     |  0.824   |\n",
            "|     400      |     7     |     4     |  0.824   |\n",
            "|     400      |     7     |     8     |  0.823   |\n",
            "|     400      |     15    |     2     |  0.841   |\n",
            "|     400      |     15    |     4     |  0.841   |\n",
            "|     400      |     15    |     8     |  0.841   |\n",
            "|     400      |     20    |     2     |  0.839   |\n",
            "|     400      |     20    |     4     |  0.839   |\n",
            "|     400      |     20    |     8     |  0.839   |\n",
            "|     500      |     1     |     2     |  0.661   |\n",
            "|     500      |     1     |     4     |  0.666   |\n",
            "|     500      |     1     |     8     |   0.66   |\n",
            "|     500      |     7     |     2     |  0.825   |\n",
            "|     500      |     7     |     4     |  0.824   |\n",
            "|     500      |     7     |     8     |  0.823   |\n",
            "|     500      |     15    |     2     |   0.84   |\n",
            "|     500      |     15    |     4     |   0.84   |\n",
            "|     500      |     15    |     8     |   0.84   |\n",
            "|     500      |     20    |     2     |  0.839   |\n",
            "|     500      |     20    |     4     |   0.84   |\n",
            "|     500      |     20    |     8     |   0.84   |\n",
            "|     600      |     1     |     2     |  0.657   |\n",
            "|     600      |     1     |     4     |  0.656   |\n",
            "|     600      |     1     |     8     |  0.665   |\n",
            "|     600      |     7     |     2     |  0.824   |\n",
            "|     600      |     7     |     4     |  0.824   |\n",
            "|     600      |     7     |     8     |  0.824   |\n",
            "|     600      |     15    |     2     |   0.84   |\n",
            "|     600      |     15    |     4     |  0.841   |\n",
            "|     600      |     15    |     8     |  0.841   |\n",
            "|     600      |     20    |     2     |  0.841   |\n",
            "|     600      |     20    |     4     |  0.841   |\n",
            "|     600      |     20    |     8     |   0.84   |\n",
            "|     700      |     1     |     2     |  0.657   |\n",
            "|     700      |     1     |     4     |  0.658   |\n",
            "|     700      |     1     |     8     |  0.668   |\n",
            "|     700      |     7     |     2     |  0.824   |\n",
            "|     700      |     7     |     4     |  0.824   |\n",
            "|     700      |     7     |     8     |  0.823   |\n",
            "|     700      |     15    |     2     |  0.841   |\n",
            "|     700      |     15    |     4     |   0.84   |\n",
            "|     700      |     15    |     8     |   0.84   |\n",
            "|     700      |     20    |     2     |  0.839   |\n",
            "|     700      |     20    |     4     |  0.841   |\n",
            "|     700      |     20    |     8     |   0.84   |\n",
            "|     800      |     1     |     2     |  0.657   |\n",
            "|     800      |     1     |     4     |  0.664   |\n",
            "|     800      |     1     |     8     |  0.665   |\n",
            "|     800      |     7     |     2     |  0.824   |\n",
            "|     800      |     7     |     4     |  0.824   |\n",
            "|     800      |     7     |     8     |  0.823   |\n",
            "|     800      |     15    |     2     |   0.84   |\n",
            "|     800      |     15    |     4     |  0.841   |\n",
            "|     800      |     15    |     8     |   0.84   |\n",
            "|     800      |     20    |     2     |   0.84   |\n",
            "|     800      |     20    |     4     |   0.84   |\n",
            "|     800      |     20    |     8     |  0.839   |\n",
            "|     900      |     1     |     2     |  0.655   |\n",
            "|     900      |     1     |     4     |  0.662   |\n",
            "|     900      |     1     |     8     |  0.657   |\n",
            "|     900      |     7     |     2     |  0.824   |\n",
            "|     900      |     7     |     4     |  0.824   |\n",
            "|     900      |     7     |     8     |  0.823   |\n",
            "+--------------+-----------+-----------+----------+\n"
          ]
        }
      ]
    },
    {
      "cell_type": "code",
      "source": [
        "rf = RandomForestClassifier(n_estimators=300, min_samples_split=4, max_features='sqrt', max_depth=15)"
      ],
      "metadata": {
        "id": "rFkTVrDRNf5R"
      },
      "execution_count": null,
      "outputs": []
    },
    {
      "cell_type": "code",
      "source": [
        "from catboost import CatBoostClassifier"
      ],
      "metadata": {
        "id": "cR_1rKqHKiPD"
      },
      "execution_count": null,
      "outputs": []
    },
    {
      "cell_type": "code",
      "source": [
        "import catboost\n",
        "from catboost.utils import eval_metric\n",
        "\n",
        "numeric_features = ['speechiness','danceability','duration_ms','energy', 'track_album_release_date'\n",
        "                      ,'instrumentalness','valence',\n",
        "                      'tempo','loudness','acousticness','liveness']\n",
        "X_inttrain, X_intest, y_intrain, y_intest = train_test_split(X_gen, y, test_size=0.15, random_state=42, stratify=y)\n",
        "X_train, X_val, y_train, y_val = train_test_split(X_inttrain, y_intrain, test_size=0.15, random_state=42, stratify=y_intrain)\n",
        "cat_train_pool = catboost.Pool(X_train, y_train)\n",
        "cat_val_pool = catboost.Pool(X_val, y_val)\n",
        "cat_test_pool = catboost.Pool(X_intest, y_intest)\n",
        "\n",
        "\n",
        "def calc_test_quality(train_pool=cat_train_pool, val_pool=cat_val_pool, test_pool=cat_test_pool, **kwargs):\n",
        "    model = catboost.CatBoostClassifier(**kwargs, random_seed=42)\n",
        "    model.fit(train_pool, verbose=0, eval_set=val_pool)\n",
        "    y_pred = model.predict_proba(test_pool)\n",
        "    return eval_metric(test_pool.get_label(), y_pred[:, 1], 'AUC')\n",
        "\n",
        "calc_test_quality()"
      ],
      "metadata": {
        "colab": {
          "base_uri": "https://localhost:8080/"
        },
        "id": "bVmEzFY-xAcP",
        "outputId": "73373379-79ca-4573-8138-8abc35d777a2"
      },
      "execution_count": null,
      "outputs": [
        {
          "output_type": "execute_result",
          "data": {
            "text/plain": [
              "[0.8448342251669698]"
            ]
          },
          "metadata": {},
          "execution_count": 142
        }
      ]
    },
    {
      "cell_type": "markdown",
      "source": [
        "Hyperparameter tuning a CatBoost model"
      ],
      "metadata": {
        "id": "5j_wqGC6iXwd"
      }
    },
    {
      "cell_type": "code",
      "source": [
        "import optuna\n",
        "from optuna.samplers import TPESampler\n",
        "from catboost.utils import eval_metric\n",
        "\n",
        "def objective(trial):\n",
        "    params = {\n",
        "        'learning_rate': trial.suggest_float('learning_rate', 0.01, 0.1),\n",
        "        'depth': trial.suggest_int('depth', 3, 10),\n",
        "        'l2_leaf_reg': trial.suggest_float('l2_leaf_reg', 1, 10),\n",
        "        'boosting_type': trial.suggest_categorical('boosting_type', ['Ordered', 'Plain']),\n",
        "        'max_ctr_complexity': trial.suggest_int('max_ctr_complexity', 0, 8)\n",
        "    }\n",
        "\n",
        "    model = catboost.CatBoostClassifier(**params, random_seed=42)\n",
        "    model.fit(cat_train_pool, verbose=0, eval_set=cat_val_pool)\n",
        "    y_pred = model.predict_proba(cat_val_pool)\n",
        "    return eval_metric(cat_val_pool.get_label(), y_pred[:, 1], 'AUC')\n",
        "\n",
        "sampler = TPESampler(seed=123)\n",
        "study = optuna.create_study(direction='maximize', sampler=sampler)\n",
        "study.optimize(objective, n_trials=20)"
      ],
      "metadata": {
        "colab": {
          "base_uri": "https://localhost:8080/"
        },
        "id": "VKpHBint4rK-",
        "outputId": "70630664-d1da-43c7-e809-776020db4bc5"
      },
      "execution_count": null,
      "outputs": [
        {
          "output_type": "stream",
          "name": "stderr",
          "text": [
            "[I 2025-02-13 02:37:06,750] A new study created in memory with name: no-name-b674733f-832f-476c-802d-6e29c624d4c4\n",
            "[I 2025-02-13 02:37:10,516] Trial 0 finished with value: 0.8426002385539958 and parameters: {'learning_rate': 0.07268222670380756, 'depth': 5, 'l2_leaf_reg': 3.041663082077828, 'boosting_type': 'Plain', 'max_ctr_complexity': 3}. Best is trial 0 with value: 0.8426002385539958.\n",
            "[I 2025-02-13 02:38:06,566] Trial 1 finished with value: 0.8413524176529956 and parameters: {'learning_rate': 0.0982687778546154, 'depth': 8, 'l2_leaf_reg': 5.328387113359248, 'boosting_type': 'Ordered', 'max_ctr_complexity': 6}. Best is trial 0 with value: 0.8426002385539958.\n",
            "[I 2025-02-13 02:38:14,576] Trial 2 finished with value: 0.8331314799522892 and parameters: {'learning_rate': 0.0494715020211662, 'depth': 3, 'l2_leaf_reg': 4.582398297973883, 'boosting_type': 'Ordered', 'max_ctr_complexity': 1}. Best is trial 0 with value: 0.8426002385539958.\n",
            "[I 2025-02-13 02:38:47,182] Trial 3 finished with value: 0.8428938434718781 and parameters: {'learning_rate': 0.05783962364576546, 'depth': 7, 'l2_leaf_reg': 6.70960862696189, 'boosting_type': 'Ordered', 'max_ctr_complexity': 5}. Best is trial 3 with value: 0.8428938434718781.\n",
            "[I 2025-02-13 02:38:49,855] Trial 4 finished with value: 0.8370584457289659 and parameters: {'learning_rate': 0.07501990443131994, 'depth': 5, 'l2_leaf_reg': 4.256097900600826, 'boosting_type': 'Plain', 'max_ctr_complexity': 5}. Best is trial 3 with value: 0.8428938434718781.\n",
            "[I 2025-02-13 02:39:11,628] Trial 5 finished with value: 0.8370767960363337 and parameters: {'learning_rate': 0.01828944459505677, 'depth': 6, 'l2_leaf_reg': 4.877764869966795, 'boosting_type': 'Ordered', 'max_ctr_complexity': 2}. Best is trial 3 with value: 0.8428938434718781.\n",
            "[I 2025-02-13 02:39:44,414] Trial 6 finished with value: 0.8373337003394807 and parameters: {'learning_rate': 0.04837161762665274, 'depth': 10, 'l2_leaf_reg': 9.497440163834916, 'boosting_type': 'Plain', 'max_ctr_complexity': 1}. Best is trial 3 with value: 0.8428938434718781.\n",
            "[I 2025-02-13 02:39:48,882] Trial 7 finished with value: 0.84373795761079 and parameters: {'learning_rate': 0.038555693363828886, 'depth': 6, 'l2_leaf_reg': 8.796782420950294, 'boosting_type': 'Plain', 'max_ctr_complexity': 8}. Best is trial 7 with value: 0.84373795761079.\n",
            "[I 2025-02-13 02:40:26,921] Trial 8 finished with value: 0.8372602991100101 and parameters: {'learning_rate': 0.056753660733382845, 'depth': 7, 'l2_leaf_reg': 2.0856579939129136, 'boosting_type': 'Ordered', 'max_ctr_complexity': 4}. Best is trial 7 with value: 0.84373795761079.\n",
            "[I 2025-02-13 02:40:29,579] Trial 9 finished with value: 0.8422332324066428 and parameters: {'learning_rate': 0.04084874503968776, 'depth': 5, 'l2_leaf_reg': 4.753199899222315, 'boosting_type': 'Plain', 'max_ctr_complexity': 4}. Best is trial 7 with value: 0.84373795761079.\n",
            "[I 2025-02-13 02:40:31,285] Trial 10 finished with value: 0.841022112120378 and parameters: {'learning_rate': 0.018811391183601187, 'depth': 3, 'l2_leaf_reg': 9.908260273512266, 'boosting_type': 'Plain', 'max_ctr_complexity': 8}. Best is trial 7 with value: 0.84373795761079.\n",
            "[I 2025-02-13 02:42:24,913] Trial 11 finished with value: 0.8378842095605101 and parameters: {'learning_rate': 0.033299219438706576, 'depth': 9, 'l2_leaf_reg': 7.607590122721717, 'boosting_type': 'Ordered', 'max_ctr_complexity': 8}. Best is trial 7 with value: 0.84373795761079.\n",
            "[I 2025-02-13 02:42:55,987] Trial 12 finished with value: 0.8410955133498486 and parameters: {'learning_rate': 0.06514474237456849, 'depth': 7, 'l2_leaf_reg': 7.400017411177668, 'boosting_type': 'Ordered', 'max_ctr_complexity': 6}. Best is trial 7 with value: 0.84373795761079.\n",
            "[I 2025-02-13 02:43:07,446] Trial 13 finished with value: 0.8429305440866135 and parameters: {'learning_rate': 0.03194495206468183, 'depth': 8, 'l2_leaf_reg': 7.2483600938021535, 'boosting_type': 'Plain', 'max_ctr_complexity': 7}. Best is trial 7 with value: 0.84373795761079.\n",
            "[I 2025-02-13 02:43:27,598] Trial 14 finished with value: 0.8416827231856133 and parameters: {'learning_rate': 0.03085149829192296, 'depth': 9, 'l2_leaf_reg': 8.674225282971953, 'boosting_type': 'Plain', 'max_ctr_complexity': 8}. Best is trial 7 with value: 0.84373795761079.\n",
            "[I 2025-02-13 02:43:41,190] Trial 15 finished with value: 0.8437563079181576 and parameters: {'learning_rate': 0.010287882416821967, 'depth': 8, 'l2_leaf_reg': 6.4207673873971025, 'boosting_type': 'Plain', 'max_ctr_complexity': 7}. Best is trial 15 with value: 0.8437563079181576.\n",
            "[I 2025-02-13 02:43:44,978] Trial 16 finished with value: 0.8439031103770989 and parameters: {'learning_rate': 0.010115191390087706, 'depth': 6, 'l2_leaf_reg': 6.266989276591908, 'boosting_type': 'Plain', 'max_ctr_complexity': 7}. Best is trial 16 with value: 0.8439031103770989.\n",
            "[I 2025-02-13 02:43:48,460] Trial 17 finished with value: 0.8414625194972016 and parameters: {'learning_rate': 0.010642556696225415, 'depth': 4, 'l2_leaf_reg': 6.646031280785731, 'boosting_type': 'Plain', 'max_ctr_complexity': 6}. Best is trial 16 with value: 0.8439031103770989.\n",
            "[I 2025-02-13 02:43:59,016] Trial 18 finished with value: 0.8422699330213781 and parameters: {'learning_rate': 0.021899387859884975, 'depth': 8, 'l2_leaf_reg': 6.068271646622409, 'boosting_type': 'Plain', 'max_ctr_complexity': 7}. Best is trial 16 with value: 0.8439031103770989.\n",
            "[I 2025-02-13 02:44:33,861] Trial 19 finished with value: 0.8402697495183045 and parameters: {'learning_rate': 0.012395834975058452, 'depth': 10, 'l2_leaf_reg': 3.6408742332580406, 'boosting_type': 'Plain', 'max_ctr_complexity': 7}. Best is trial 16 with value: 0.8439031103770989.\n"
          ]
        }
      ]
    },
    {
      "cell_type": "code",
      "source": [
        "calc_test_quality(**study.best_params), study.best_params"
      ],
      "metadata": {
        "colab": {
          "base_uri": "https://localhost:8080/"
        },
        "id": "8E1_UlNS6-S_",
        "outputId": "d63f9627-edb5-45d9-ffbd-d04f2a6d0eda"
      },
      "execution_count": null,
      "outputs": [
        {
          "output_type": "execute_result",
          "data": {
            "text/plain": [
              "([0.8428823709054214],\n",
              " {'learning_rate': 0.010115191390087706,\n",
              "  'depth': 6,\n",
              "  'l2_leaf_reg': 6.266989276591908,\n",
              "  'boosting_type': 'Plain',\n",
              "  'max_ctr_complexity': 7})"
            ]
          },
          "metadata": {},
          "execution_count": 144
        }
      ]
    },
    {
      "cell_type": "code",
      "source": [
        "ct= CatBoostClassifier(learning_rate=0.010115191390087706, depth= 6, l2_leaf_reg=6.266989276591908,\n",
        "                       boosting_type='Plain',max_ctr_complexity= 7, verbose=0)"
      ],
      "metadata": {
        "id": "t-4oABu1Uj1W"
      },
      "execution_count": null,
      "outputs": []
    },
    {
      "cell_type": "code",
      "source": [
        "X_train, X_test, y_train, y_test = train_test_split(X_gen, y, train_size=0.7, stratify=y)"
      ],
      "metadata": {
        "id": "mNYBpXN1RaF7"
      },
      "execution_count": null,
      "outputs": []
    },
    {
      "cell_type": "markdown",
      "source": [
        "Hyperparameter tuning an XGBoost model"
      ],
      "metadata": {
        "id": "HFExE5O_ibmC"
      }
    },
    {
      "cell_type": "code",
      "source": [
        "import xgboost as xgb\n",
        "from sklearn.model_selection import GridSearchCV\n",
        "from hyperopt import fmin, tpe, hp, STATUS_OK, Trials\n",
        "from hyperopt.pyll import scope\n",
        "import sklearn.metrics\n",
        "\n",
        "# Define the hyperparameter space\n",
        "space = {\n",
        "    'max_depth': scope.int(hp.quniform('max_depth', 2, 16, 1)),\n",
        "    'learning_rate': hp.loguniform('learning_rate', -7, -2),\n",
        "    'subsample': hp.uniform('subsample', 0.5, 1),\n",
        "    'n_estimators': scope.int(hp.uniform('n_estimators', 50, 500))\n",
        "}\n",
        "\n",
        "# Define the objective function to minimize\n",
        "def objective(params):\n",
        "    xgb_model = xgb.XGBClassifier(**params, enable_categorical = True)\n",
        "    xgb_model.fit(X_train, y_train)\n",
        "    y_pred = xgb_model.predict_proba(X_test)\n",
        "    expected = [e[-1] for e in y_pred]\n",
        "    score = sklearn.metrics.roc_auc_score(y_test, expected)\n",
        "    return {'loss': -score, 'status': STATUS_OK}\n",
        "\n",
        "# Perform the optimization\n",
        "best_params = fmin(objective, space, algo=tpe.suggest, max_evals=300)\n",
        "print(\"Best set of hyperparameters: \", best_params)"
      ],
      "metadata": {
        "colab": {
          "base_uri": "https://localhost:8080/"
        },
        "id": "lVYvpqflUiuu",
        "outputId": "d980b52e-b0cf-4e12-e383-e2e58e43676e"
      },
      "execution_count": null,
      "outputs": [
        {
          "output_type": "stream",
          "name": "stdout",
          "text": [
            "100%|██████████| 300/300 [11:58<00:00,  2.40s/trial, best loss: -0.8363880523590143]\n",
            "Best set of hyperparameters:  {'learning_rate': 0.017542724911038882, 'max_depth': 15.0, 'n_estimators': 445.54375123756455, 'subsample': 0.6411760492565678}\n"
          ]
        }
      ]
    },
    {
      "cell_type": "code",
      "source": [
        "xg = xgb.XGBClassifier(learning_rate=0.0175, max_depth= int(15.0),\n",
        "                       n_estimators=500, subsample=0.65)\n",
        "\n",
        "from sklearn.model_selection import cross_val_score\n",
        "#accuracies = cross_val_score(estimator = xg, X = X_train, y = y_train, cv = 10, scoring='roc_auc')\n"
      ],
      "metadata": {
        "id": "L7OGY8sYOdg6"
      },
      "execution_count": null,
      "outputs": []
    },
    {
      "cell_type": "code",
      "source": [
        "import sklearn.metrics\n",
        "import xgboost as xgb\n",
        "\n",
        "\n",
        "def evaluate_model(model, X_train, X_test, y_train, y_test, stack=False):\n",
        "  if stack:\n",
        "    expected = [l[-1] for l in model.predict_proba(X_test)]\n",
        "    #print('----------------------------------------------\\n')\n",
        "    #print('ROC-AUC Score: ', round(sklearn.metrics.roc_auc_score(y_test, expected), 3))\n",
        "    return round(sklearn.metrics.roc_auc_score(y_test, expected), 3)\n",
        "  else:\n",
        "    model.fit(X_train, y_train)\n",
        "    expected = [l[-1] for l in model.predict_proba(X_test)]\n",
        "    #print('----------------------------------------------\\n')\n",
        "    #print('ROC-AUC Score: ', round(sklearn.metrics.roc_auc_score(y_test, expected), 3))\n",
        "    return round(sklearn.metrics.roc_auc_score(y_test, expected), 3)"
      ],
      "metadata": {
        "id": "7G1jdmLPK1bO"
      },
      "execution_count": null,
      "outputs": []
    },
    {
      "cell_type": "code",
      "source": [
        "X_train, X_test, y_train, y_test = train_test_split(X_gen, y, train_size=0.7, stratify=y)"
      ],
      "metadata": {
        "id": "_tRKvVcS8_5f"
      },
      "execution_count": null,
      "outputs": []
    },
    {
      "cell_type": "code",
      "source": [
        "evaluate_model(ct, X_train, X_test, y_train, y_test)"
      ],
      "metadata": {
        "colab": {
          "base_uri": "https://localhost:8080/"
        },
        "id": "lAeeJW4oOZfB",
        "outputId": "515505cd-c0f9-4a00-be01-70fea94c11f6"
      },
      "execution_count": null,
      "outputs": [
        {
          "output_type": "execute_result",
          "data": {
            "text/plain": [
              "0.822"
            ]
          },
          "metadata": {},
          "execution_count": 195
        }
      ]
    },
    {
      "cell_type": "code",
      "source": [
        "rf = RandomForestClassifier(criterion='log_loss', n_estimators=300, min_samples_split=4 , max_depth=15, max_features=None)"
      ],
      "metadata": {
        "id": "nPuFFu5DM9o3"
      },
      "execution_count": null,
      "outputs": []
    },
    {
      "cell_type": "code",
      "source": [
        "evaluate_model(rf, X_train, X_test, y_train, y_test)"
      ],
      "metadata": {
        "colab": {
          "base_uri": "https://localhost:8080/"
        },
        "id": "8_bcwCfg2M-R",
        "outputId": "da315e4f-04bd-49fe-bcf7-e95878e80023"
      },
      "execution_count": null,
      "outputs": [
        {
          "output_type": "execute_result",
          "data": {
            "text/plain": [
              "0.828"
            ]
          },
          "metadata": {},
          "execution_count": 198
        }
      ]
    },
    {
      "cell_type": "code",
      "source": [
        "evaluate_model(xg, X_train, X_test, y_train, y_test)"
      ],
      "metadata": {
        "colab": {
          "base_uri": "https://localhost:8080/"
        },
        "id": "6WDVgsqY2O9l",
        "outputId": "d31cf891-d5bb-4647-d33e-a554bb30b0d5"
      },
      "execution_count": null,
      "outputs": [
        {
          "output_type": "execute_result",
          "data": {
            "text/plain": [
              "0.827"
            ]
          },
          "metadata": {},
          "execution_count": 199
        }
      ]
    },
    {
      "cell_type": "code",
      "source": [
        "from sklearn.ensemble import StackingClassifier, VotingClassifier"
      ],
      "metadata": {
        "id": "W97B-AidYBPH"
      },
      "execution_count": null,
      "outputs": []
    },
    {
      "cell_type": "markdown",
      "source": [
        "Adding a majority vote based stacking classifier and testing individual and stack performance"
      ],
      "metadata": {
        "id": "RweJHkDSio8I"
      }
    },
    {
      "cell_type": "code",
      "source": [
        "acu_ct = []\n",
        "acu_rf = []\n",
        "acu_xg = []\n",
        "acu_st = []\n",
        "for epoch in range(10):\n",
        "  X_train, X_test, y_train, y_test = train_test_split(X_gen, y, train_size=0.7, stratify=y)\n",
        "  print('Epoch num: ' + str(epoch))\n",
        "  ctac = evaluate_model(ct,  X_train, X_test, y_train, y_test)\n",
        "  print('ROC-AUC of CatBoost: ' + str(ctac))\n",
        "  rfac = evaluate_model(rf, X_train, X_test, y_train, y_test)\n",
        "  print('ROC-AUC of Random Forest: ' + str(rfac))\n",
        "  xgac = evaluate_model(xg, X_train, X_test, y_train, y_test)\n",
        "  print('ROC-AUC of XGBoost: ' + str(xgac))\n",
        "  estimators = [\n",
        "    ('ct', ct),\n",
        "    ('rf', rf),\n",
        "    ('xg', xg),\n",
        "  ]\n",
        "  stacked = VotingClassifier(estimators=estimators, voting='soft')\n",
        "  stacked.fit(X_train, y_train)\n",
        "  stac = evaluate_model(stacked, X_train, X_test, y_train, y_test, stack=True)\n",
        "  print('ROC-AUC of Stacked: ' + str(stac))\n",
        "  acu_ct.append(ctac)\n",
        "  acu_rf.append(rfac)\n",
        "  acu_xg.append(xgac)\n",
        "  acu_st.append(stac)\n",
        "  print()\n",
        "\n",
        "print('Average CT ROC-AUC: ', sum(acu_ct)/len(acu_rf))\n",
        "print('Average RF ROC-AUC: ', sum(acu_rf)/len(acu_rf))\n",
        "print('Average XG ROC-AUC: ', sum(acu_xg)/len(acu_rf))\n",
        "print('Average Stack ROC-AUC: ', sum(acu_st)/len(acu_rf))"
      ],
      "metadata": {
        "colab": {
          "base_uri": "https://localhost:8080/"
        },
        "id": "1QTuUOcXZoc3",
        "outputId": "70396ac1-56d2-4752-95cf-70189187681a"
      },
      "execution_count": null,
      "outputs": [
        {
          "output_type": "stream",
          "name": "stdout",
          "text": [
            "Epoch num: 0\n",
            "ROC-AUC of CatBoost: 0.839\n",
            "ROC-AUC of Random Forest: 0.844\n",
            "ROC-AUC of XGBoost: 0.844\n",
            "ROC-AUC of Stacked: 0.848\n",
            "\n",
            "Epoch num: 1\n",
            "ROC-AUC of CatBoost: 0.834\n",
            "ROC-AUC of Random Forest: 0.839\n",
            "ROC-AUC of XGBoost: 0.841\n",
            "ROC-AUC of Stacked: 0.846\n",
            "\n",
            "Epoch num: 2\n",
            "ROC-AUC of CatBoost: 0.83\n",
            "ROC-AUC of Random Forest: 0.836\n",
            "ROC-AUC of XGBoost: 0.843\n",
            "ROC-AUC of Stacked: 0.845\n",
            "\n",
            "Epoch num: 3\n",
            "ROC-AUC of CatBoost: 0.833\n",
            "ROC-AUC of Random Forest: 0.828\n",
            "ROC-AUC of XGBoost: 0.83\n",
            "ROC-AUC of Stacked: 0.836\n",
            "\n",
            "Epoch num: 4\n",
            "ROC-AUC of CatBoost: 0.824\n",
            "ROC-AUC of Random Forest: 0.827\n",
            "ROC-AUC of XGBoost: 0.829\n",
            "ROC-AUC of Stacked: 0.831\n",
            "\n",
            "Epoch num: 5\n",
            "ROC-AUC of CatBoost: 0.835\n",
            "ROC-AUC of Random Forest: 0.847\n",
            "ROC-AUC of XGBoost: 0.846\n",
            "ROC-AUC of Stacked: 0.849\n",
            "\n",
            "Epoch num: 6\n",
            "ROC-AUC of CatBoost: 0.835\n",
            "ROC-AUC of Random Forest: 0.832\n",
            "ROC-AUC of XGBoost: 0.838\n",
            "ROC-AUC of Stacked: 0.841\n",
            "\n",
            "Epoch num: 7\n",
            "ROC-AUC of CatBoost: 0.825\n",
            "ROC-AUC of Random Forest: 0.834\n",
            "ROC-AUC of XGBoost: 0.832\n",
            "ROC-AUC of Stacked: 0.837\n",
            "\n",
            "Epoch num: 8\n",
            "ROC-AUC of CatBoost: 0.846\n",
            "ROC-AUC of Random Forest: 0.851\n",
            "ROC-AUC of XGBoost: 0.853\n",
            "ROC-AUC of Stacked: 0.857\n",
            "\n",
            "Epoch num: 9\n",
            "ROC-AUC of CatBoost: 0.837\n",
            "ROC-AUC of Random Forest: 0.843\n",
            "ROC-AUC of XGBoost: 0.844\n",
            "ROC-AUC of Stacked: 0.848\n",
            "\n",
            "Average CT ROC-AUC:  0.8338000000000001\n",
            "Average RF ROC-AUC:  0.8380999999999998\n",
            "Average XG ROC-AUC:  0.8400000000000001\n",
            "Average Stack ROC-AUC:  0.8438000000000001\n"
          ]
        }
      ]
    },
    {
      "cell_type": "code",
      "source": [
        "estimators = [\n",
        "    ('ct', ct),\n",
        "    ('rf', rf),\n",
        "    ('xg', xg),\n",
        "]\n",
        "stacked = VotingClassifier(estimators=estimators, voting='soft')\n",
        "stacked.fit(X_gen, y)\n",
        "y_test_pred = [l[1] for l in stacked.predict_proba(df_2xgen)]\n"
      ],
      "metadata": {
        "id": "qRSB3-7Dj6Zn"
      },
      "execution_count": null,
      "outputs": []
    },
    {
      "cell_type": "markdown",
      "source": [
        "Creating file for Kaggle submission"
      ],
      "metadata": {
        "id": "39XNdBC-izJY"
      }
    },
    {
      "cell_type": "code",
      "source": [
        "\n",
        "import csv\n",
        "\n",
        "data = [\n",
        "    ['ID', 'Popularity_Type']\n",
        "]\n",
        "for i in range(len(y_test_pred)):\n",
        "  data.append([i+1, y_test_pred[i]])\n",
        "\n",
        "file_path = 'predictions.csv'\n",
        "\n",
        "with open(file_path, 'w', newline='') as csvfile:\n",
        "    writer = csv.writer(csvfile)\n",
        "    writer.writerows(data)"
      ],
      "metadata": {
        "id": "U3LNPKf0gS3u"
      },
      "execution_count": null,
      "outputs": []
    }
  ]
}